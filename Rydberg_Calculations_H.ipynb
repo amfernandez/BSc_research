{
 "cells": [
  {
   "cell_type": "markdown",
   "metadata": {},
   "source": [
    "# Exploring ARC package for Rydberg calculations\n",
    "\n",
    "Using example in ARC Prime notebook, I want to apply examples 5 to Hydrogen. The goal is to get parameters that we can input to models for our goal to know more about the physical conditions of the physical media"
   ]
  },
  {
   "cell_type": "code",
   "execution_count": 1,
   "metadata": {},
   "outputs": [],
   "source": [
    "from arc import *"
   ]
  },
  {
   "cell_type": "code",
   "execution_count": 3,
   "metadata": {},
   "outputs": [],
   "source": [
    "# Having problems with the c++ library for Numerov integration for n> 8, depending on the function used\n",
    "# cpp Numerov ON\n",
    "atom = Hydrogen()"
   ]
  },
  {
   "cell_type": "code",
   "execution_count": 12,
   "metadata": {},
   "outputs": [],
   "source": [
    "# cpp Numerov OFF\n",
    "atom = Hydrogen(cpp_numerov=False)"
   ]
  },
  {
   "cell_type": "markdown",
   "metadata": {},
   "source": [
    "Plotting the Quantum Defects for Hydrogen - All zero\n",
    "Not useful? Not sure what it is used for?"
   ]
  },
  {
   "cell_type": "code",
   "execution_count": 4,
   "metadata": {},
   "outputs": [
    {
     "data": {
      "text/plain": [
       "Text(0.5,1,'H Quantum Defects')"
      ]
     },
     "execution_count": 4,
     "metadata": {},
     "output_type": "execute_result"
    },
    {
     "data": {
      "image/png": "[encoded data removed]",
      "text/plain": [
       "<matplotlib.figure.Figure at 0xa97e532c>"
      ]
     },
     "metadata": {},
     "output_type": "display_data"
    }
   ],
   "source": [
    "n=np.arange(6,100,1)\n",
    "    \n",
    "#Plot Quantum Defects of H\n",
    "fig, axes = plt.subplots(1, 1, figsize=(7,5))\n",
    "\n",
    "axes.plot(n,atom.getQuantumDefect(n,0,0.5),'.',label=\"$nS_{1/2}$\")\n",
    "#axes.plot(n,atom.getQuantumDefect(n,1,1.5),'.',label=\"$nP_{3/2}$\")\n",
    "#axes.plot(n,atom.getQuantumDefect(n,2,2.5),'.',label=\"$nD_{5/2}$\")\n",
    "#axes.plot(n,atom.getQuantumDefect(n,3,3.5),'.',label=\"$nF_{7/2}$\")\n",
    "axes.legend(loc=0)\n",
    "axes.set_xlabel('$n$')\n",
    "axes.set_ylabel('Quantum Defect $\\delta_{n\\ell j}$')\n",
    "axes.set_title('H Quantum Defects')"
   ]
  },
  {
   "cell_type": "markdown",
   "metadata": {},
   "source": [
    "Radial Wave function for Hydrogen: calculating the size of a Rydberg atom, average size $\\langle r \\rangle\\propto n^2ea_0$ "
   ]
  },
  {
   "cell_type": "code",
   "execution_count": 8,
   "metadata": {},
   "outputs": [
    {
     "data": {
      "image/png": "[encoded data removed]",
      "text/plain": [
       "<matplotlib.figure.Figure at 0xa7cfd38c>"
      ]
     },
     "metadata": {},
     "output_type": "display_data"
    }
   ],
   "source": [
    "# pqn = [15,30,60] # principal quantum numbers of the states\n",
    "pqn = [300] # principal quantum numbers of the states\n",
    "#colors = [\"b\",\"r\",\"g\"]\n",
    "colors = [\"b\"]\n",
    "l = 0          # S state\n",
    "j = 0.5        # J = 1/2\n",
    "\n",
    "plotLegend = []\n",
    "for i in range(len(pqn)):\n",
    "    n = pqn[i]\n",
    "    step = 0.001    \n",
    "    a1,b1 = atom.radialWavefunction(l,0.5,j,\\\n",
    "                                       atom.getEnergy(n, l, j)/27.211,\\\n",
    "                                       atom.alphaC**(1/3.0),\\\n",
    "                                       2.0*n*(n+15.0), step)\n",
    "    legendInfo, = plt.plot(a1,(b1)*(b1),\\\n",
    "                           \"-\",lw=2,color = colors[i], label = (\"n = %d\" % n) )\n",
    "    plotLegend.append(legendInfo)\n",
    "    \n",
    "plt.legend(handles=plotLegend)\n",
    "plt.xlabel(r\"Distance from nucleus $r$ ($a_0$)\")\n",
    "plt.ylabel(r\"$\\vert rR(r)\\vert^2$\")\n",
    "plt.gca().set_title(\"Size of Rydberg atom\")\n",
    "plt.show()"
   ]
  },
  {
   "cell_type": "markdown",
   "metadata": {},
   "source": [
    "# Rydberg atoms lifetimes\n"
   ]
  },
  {
   "cell_type": "code",
   "execution_count": null,
   "metadata": {},
   "outputs": [],
   "source": [
    "print(\"\\tState Lifetime:\\t%.2e ns\\n\"  \n",
    "  % (atom.getStateLifetime(n1, l1, j1)*1e9) )"
   ]
  },
  {
   "cell_type": "code",
   "execution_count": 10,
   "metadata": {},
   "outputs": [
    {
     "name": "stdout",
     "output_type": "stream",
     "text": [
      "Initial transition: 30 S 1/2 \n"
     ]
    },
    {
     "ename": "TypeError",
     "evalue": "unsupported operand type(s) for *: 'float' and 'NoneType'",
     "output_type": "error",
     "traceback": [
      "\u001b[0;31m---------------------------------------------------------------------------\u001b[0m",
      "\u001b[0;31mTypeError\u001b[0m                                 Traceback (most recent call last)",
      "\u001b[0;32m<ipython-input-10-ecc3c993d63c>\u001b[0m in \u001b[0;36m<module>\u001b[0;34m()\u001b[0m\n\u001b[1;32m     11\u001b[0m \u001b[0;32mfor\u001b[0m \u001b[0mn\u001b[0m \u001b[0;32min\u001b[0m \u001b[0mxrange\u001b[0m\u001b[0;34m(\u001b[0m\u001b[0;36m5\u001b[0m\u001b[0;34m,\u001b[0m\u001b[0;36m40\u001b[0m\u001b[0;34m)\u001b[0m\u001b[0;34m:\u001b[0m\u001b[0;34m\u001b[0m\u001b[0m\n\u001b[1;32m     12\u001b[0m     \u001b[0mpqn\u001b[0m\u001b[0;34m.\u001b[0m\u001b[0mappend\u001b[0m\u001b[0;34m(\u001b[0m\u001b[0mn\u001b[0m\u001b[0;34m)\u001b[0m\u001b[0;34m\u001b[0m\u001b[0m\n\u001b[0;32m---> 13\u001b[0;31m     \u001b[0mnoBBR\u001b[0m \u001b[0;34m=\u001b[0m \u001b[0matom\u001b[0m\u001b[0;34m.\u001b[0m\u001b[0mgetTransitionRate\u001b[0m\u001b[0;34m(\u001b[0m\u001b[0mni\u001b[0m\u001b[0;34m,\u001b[0m \u001b[0mli\u001b[0m\u001b[0;34m,\u001b[0m \u001b[0mji\u001b[0m\u001b[0;34m,\u001b[0m \u001b[0mn\u001b[0m\u001b[0;34m,\u001b[0m \u001b[0;36m1\u001b[0m\u001b[0;34m,\u001b[0m \u001b[0;36m0.5\u001b[0m\u001b[0;34m,\u001b[0m \u001b[0mtemperature\u001b[0m\u001b[0;34m=\u001b[0m\u001b[0;36m0.1\u001b[0m\u001b[0;34m)\u001b[0m            \u001b[0;34m+\u001b[0m\u001b[0matom\u001b[0m\u001b[0;34m.\u001b[0m\u001b[0mgetTransitionRate\u001b[0m\u001b[0;34m(\u001b[0m\u001b[0mni\u001b[0m\u001b[0;34m,\u001b[0m \u001b[0mli\u001b[0m\u001b[0;34m,\u001b[0m \u001b[0mji\u001b[0m\u001b[0;34m,\u001b[0m \u001b[0mn\u001b[0m\u001b[0;34m,\u001b[0m \u001b[0;36m1\u001b[0m\u001b[0;34m,\u001b[0m \u001b[0;36m1.5\u001b[0m\u001b[0;34m,\u001b[0m \u001b[0mtemperature\u001b[0m\u001b[0;34m=\u001b[0m\u001b[0;36m0.1\u001b[0m\u001b[0;34m)\u001b[0m\u001b[0;34m\u001b[0m\u001b[0m\n\u001b[0m\u001b[1;32m     14\u001b[0m     \u001b[0mwithBBR\u001b[0m \u001b[0;34m=\u001b[0m  \u001b[0matom\u001b[0m\u001b[0;34m.\u001b[0m\u001b[0mgetTransitionRate\u001b[0m\u001b[0;34m(\u001b[0m\u001b[0mni\u001b[0m\u001b[0;34m,\u001b[0m \u001b[0mli\u001b[0m\u001b[0;34m,\u001b[0m \u001b[0mji\u001b[0m\u001b[0;34m,\u001b[0m \u001b[0mn\u001b[0m\u001b[0;34m,\u001b[0m \u001b[0;36m1\u001b[0m\u001b[0;34m,\u001b[0m \u001b[0;36m0.5\u001b[0m\u001b[0;34m,\u001b[0m \u001b[0mtemperature\u001b[0m\u001b[0;34m=\u001b[0m\u001b[0;36m300.0\u001b[0m\u001b[0;34m)\u001b[0m            \u001b[0;34m+\u001b[0m\u001b[0matom\u001b[0m\u001b[0;34m.\u001b[0m\u001b[0mgetTransitionRate\u001b[0m\u001b[0;34m(\u001b[0m\u001b[0mni\u001b[0m\u001b[0;34m,\u001b[0m \u001b[0mli\u001b[0m\u001b[0;34m,\u001b[0m \u001b[0mji\u001b[0m\u001b[0;34m,\u001b[0m \u001b[0mn\u001b[0m\u001b[0;34m,\u001b[0m \u001b[0;36m1\u001b[0m\u001b[0;34m,\u001b[0m \u001b[0;36m1.5\u001b[0m\u001b[0;34m,\u001b[0m \u001b[0mtemperature\u001b[0m\u001b[0;34m=\u001b[0m\u001b[0;36m300.0\u001b[0m\u001b[0;34m)\u001b[0m\u001b[0;34m\u001b[0m\u001b[0m\n\u001b[1;32m     15\u001b[0m     \u001b[0my\u001b[0m\u001b[0;34m.\u001b[0m\u001b[0mappend\u001b[0m\u001b[0;34m(\u001b[0m\u001b[0mnoBBR\u001b[0m\u001b[0;34m)\u001b[0m\u001b[0;34m\u001b[0m\u001b[0m\n",
      "\u001b[0;32m~/anaconda3/envs/arc/lib/python3.6/site-packages/arc/alkali_atom_functions.py\u001b[0m in \u001b[0;36mgetTransitionRate\u001b[0;34m(self, n1, l1, j1, n2, l2, j2, temperature)\u001b[0m\n\u001b[1;32m   1254\u001b[0m             dipoleRadialPart = self.getReducedMatrixElementJ_asymmetric(n2, l2, j2,\\\n\u001b[1;32m   1255\u001b[0m                                                                         n1, l1, j1)*\\\n\u001b[0;32m-> 1256\u001b[0;31m                                 \u001b[0mC_e\u001b[0m\u001b[0;34m*\u001b[0m\u001b[0;34m(\u001b[0m\u001b[0mphysical_constants\u001b[0m\u001b[0;34m[\u001b[0m\u001b[0;34m\"Bohr radius\"\u001b[0m\u001b[0;34m]\u001b[0m\u001b[0;34m[\u001b[0m\u001b[0;36m0\u001b[0m\u001b[0;34m]\u001b[0m\u001b[0;34m)\u001b[0m\u001b[0;34m\u001b[0m\u001b[0m\n\u001b[0m\u001b[1;32m   1257\u001b[0m             \u001b[0mdegeneracyTerm\u001b[0m \u001b[0;34m=\u001b[0m \u001b[0;34m(\u001b[0m\u001b[0;36m2.\u001b[0m\u001b[0;34m*\u001b[0m\u001b[0mj2\u001b[0m\u001b[0;34m+\u001b[0m\u001b[0;36m1.0\u001b[0m\u001b[0;34m)\u001b[0m\u001b[0;34m/\u001b[0m\u001b[0;34m(\u001b[0m\u001b[0;36m2.\u001b[0m\u001b[0;34m*\u001b[0m\u001b[0mj1\u001b[0m\u001b[0;34m+\u001b[0m\u001b[0;36m1.\u001b[0m\u001b[0;34m)\u001b[0m\u001b[0;34m\u001b[0m\u001b[0m\n\u001b[1;32m   1258\u001b[0m \u001b[0;34m\u001b[0m\u001b[0m\n",
      "\u001b[0;32m~/anaconda3/envs/arc/lib/python3.6/site-packages/arc/alkali_atom_functions.py\u001b[0m in \u001b[0;36mgetReducedMatrixElementJ_asymmetric\u001b[0;34m(self, n1, l1, j1, n2, l2, j2)\u001b[0m\n\u001b[1;32m    876\u001b[0m                 \u001b[0mWigner6j\u001b[0m\u001b[0;34m(\u001b[0m\u001b[0ml1\u001b[0m\u001b[0;34m,\u001b[0m\u001b[0ml2\u001b[0m\u001b[0;34m,\u001b[0m\u001b[0;36m1\u001b[0m\u001b[0;34m,\u001b[0m\u001b[0mj2\u001b[0m\u001b[0;34m,\u001b[0m\u001b[0mj1\u001b[0m\u001b[0;34m,\u001b[0m\u001b[0;36m0.5\u001b[0m\u001b[0;34m)\u001b[0m\u001b[0;34m*\u001b[0m\u001b[0;31m\\\u001b[0m\u001b[0;34m\u001b[0m\u001b[0m\n\u001b[1;32m    877\u001b[0m                 \u001b[0msqrt\u001b[0m\u001b[0;34m(\u001b[0m\u001b[0mfloat\u001b[0m\u001b[0;34m(\u001b[0m\u001b[0mmax\u001b[0m\u001b[0;34m(\u001b[0m\u001b[0ml1\u001b[0m\u001b[0;34m,\u001b[0m\u001b[0ml2\u001b[0m\u001b[0;34m)\u001b[0m\u001b[0;34m)\u001b[0m\u001b[0;34m/\u001b[0m\u001b[0;34m(\u001b[0m\u001b[0;36m2.0\u001b[0m\u001b[0;34m*\u001b[0m\u001b[0ml1\u001b[0m\u001b[0;34m+\u001b[0m\u001b[0;36m1.0\u001b[0m\u001b[0;34m)\u001b[0m\u001b[0;34m)\u001b[0m\u001b[0;34m*\u001b[0m\u001b[0;31m\\\u001b[0m\u001b[0;34m\u001b[0m\u001b[0m\n\u001b[0;32m--> 878\u001b[0;31m                 \u001b[0mself\u001b[0m\u001b[0;34m.\u001b[0m\u001b[0mgetRadialMatrixElement\u001b[0m\u001b[0;34m(\u001b[0m\u001b[0mn1\u001b[0m\u001b[0;34m,\u001b[0m \u001b[0ml1\u001b[0m\u001b[0;34m,\u001b[0m \u001b[0mj1\u001b[0m\u001b[0;34m,\u001b[0m \u001b[0mn2\u001b[0m\u001b[0;34m,\u001b[0m \u001b[0ml2\u001b[0m\u001b[0;34m,\u001b[0m \u001b[0mj2\u001b[0m\u001b[0;34m)\u001b[0m\u001b[0;34m\u001b[0m\u001b[0m\n\u001b[0m\u001b[1;32m    879\u001b[0m \u001b[0;34m\u001b[0m\u001b[0m\n\u001b[1;32m    880\u001b[0m     \u001b[0;32mdef\u001b[0m \u001b[0mgetReducedMatrixElementL\u001b[0m\u001b[0;34m(\u001b[0m\u001b[0mself\u001b[0m\u001b[0;34m,\u001b[0m\u001b[0mn1\u001b[0m\u001b[0;34m,\u001b[0m\u001b[0ml1\u001b[0m\u001b[0;34m,\u001b[0m\u001b[0mj1\u001b[0m\u001b[0;34m,\u001b[0m\u001b[0mn2\u001b[0m\u001b[0;34m,\u001b[0m\u001b[0ml2\u001b[0m\u001b[0;34m,\u001b[0m\u001b[0mj2\u001b[0m\u001b[0;34m)\u001b[0m\u001b[0;34m:\u001b[0m\u001b[0;34m\u001b[0m\u001b[0m\n",
      "\u001b[0;31mTypeError\u001b[0m: unsupported operand type(s) for *: 'float' and 'NoneType'"
     ]
    }
   ],
   "source": [
    "# Definition of the Departure state / Initial\n",
    "ni = 30\n",
    "li = 0\n",
    "ji = 0.5\n",
    "print(\"Initial transition: %s \" % printStateString(ni,li,ji) )\n",
    "\n",
    "pqn = []\n",
    "y = []\n",
    "ybb = []\n",
    "    \n",
    "for n in xrange(5,40):\n",
    "    pqn.append(n)\n",
    "    noBBR = atom.getTransitionRate(ni, li, ji, n, 1, 0.5, temperature=0.1)\\\n",
    "            +atom.getTransitionRate(ni, li, ji, n, 1, 1.5, temperature=0.1)\n",
    "    withBBR =  atom.getTransitionRate(ni, li, ji, n, 1, 0.5, temperature=300.0)\\\n",
    "            +atom.getTransitionRate(ni, li, ji, n, 1, 1.5, temperature=300.0)\n",
    "    y.append(noBBR)\n",
    "    ybb.append(withBBR-noBBR)\n",
    "    \n",
    "pqn=np.array(pqn) \n",
    "y = np.array(y)\n",
    "ybb = np.array(ybb)\n",
    "\n",
    "width = 0.4\n",
    "plt.bar(pqn-width/2.,y,width=width,color=\"r\")\n",
    "plt.bar(pqn+width/2.,ybb,width=width,color=\"g\")\n",
    "plt.xlabel(\"Principal quantum number, $n$\")\n",
    "plt.ylabel(r\"Transition rate (s${}^{-1}$)\")\n",
    "plt.title(\"Transition from 30 $S_{1/2}$ to $n$ $P_{1/2,3/2}$\")\n",
    "plt.legend((\"Spontaneous decays\",\"Black-body induced transitions\"),fontsize=10)\n",
    "plt.xlim(4,40)\n",
    "plt.show()\n",
    "\n",
    "display(HTML(\"Lifetime (0 K) &tau;<sub>0</sub> = %.2f &mu;s\" % \\\n",
    "             (atom.getStateLifetime(ni,li,ji) *1.e6)))\n",
    "display(HTML(\"Lifetime (300 K) &tau;<sub>eff</sub> = %.2f &mu;s\" % \\\n",
    "             (atom.getStateLifetime(ni,li,ji,temperature=300.,includeLevelsUpTo=39) *1.e6)))"
   ]
  },
  {
   "cell_type": "markdown",
   "metadata": {},
   "source": [
    "## Debugging errors with H and StateLifetime\n",
    "\n"
   ]
  },
  {
   "cell_type": "code",
   "execution_count": 14,
   "metadata": {},
   "outputs": [
    {
     "name": "stdout",
     "output_type": "stream",
     "text": [
      "Initial transition: 10 S 1/2 \n"
     ]
    },
    {
     "ename": "TypeError",
     "evalue": "unsupported operand type(s) for *: 'float' and 'NoneType'",
     "output_type": "error",
     "traceback": [
      "\u001b[0;31m---------------------------------------------------------------------------\u001b[0m",
      "\u001b[0;31mTypeError\u001b[0m                                 Traceback (most recent call last)",
      "\u001b[0;32m<ipython-input-14-171469b2f3e8>\u001b[0m in \u001b[0;36m<module>\u001b[0;34m()\u001b[0m\n\u001b[1;32m      4\u001b[0m \u001b[0mprint\u001b[0m\u001b[0;34m(\u001b[0m\u001b[0;34m\"Initial transition: %s \"\u001b[0m \u001b[0;34m%\u001b[0m \u001b[0mprintStateString\u001b[0m\u001b[0;34m(\u001b[0m\u001b[0mni\u001b[0m\u001b[0;34m,\u001b[0m\u001b[0mli\u001b[0m\u001b[0;34m,\u001b[0m\u001b[0mji\u001b[0m\u001b[0;34m)\u001b[0m \u001b[0;34m)\u001b[0m\u001b[0;34m\u001b[0m\u001b[0m\n\u001b[1;32m      5\u001b[0m print(\"\\tState Lifetime:\\t%.2e ns\\n\"  \n\u001b[0;32m----> 6\u001b[0;31m   % (atom.getStateLifetime(ni, li, ji)*1e9) )\n\u001b[0m",
      "\u001b[0;32m~/anaconda3/envs/arc/lib/python3.6/site-packages/arc/alkali_atom_functions.py\u001b[0m in \u001b[0;36mgetStateLifetime\u001b[0;34m(self, n, l, j, temperature, includeLevelsUpTo)\u001b[0m\n\u001b[1;32m   1338\u001b[0m                 transitionRate += self.getTransitionRate(n,l,j,\\\n\u001b[1;32m   1339\u001b[0m                                                              \u001b[0mnto\u001b[0m\u001b[0;34m,\u001b[0m \u001b[0mlto\u001b[0m\u001b[0;34m,\u001b[0m \u001b[0mjto\u001b[0m\u001b[0;34m,\u001b[0m\u001b[0;31m\\\u001b[0m\u001b[0;34m\u001b[0m\u001b[0m\n\u001b[0;32m-> 1340\u001b[0;31m                                                              temperature)\n\u001b[0m\u001b[1;32m   1341\u001b[0m             \u001b[0mjto\u001b[0m \u001b[0;34m=\u001b[0m \u001b[0mj\u001b[0m\u001b[0;34m+\u001b[0m\u001b[0;36m1\u001b[0m\u001b[0;34m\u001b[0m\u001b[0m\n\u001b[1;32m   1342\u001b[0m             transitionRate += self.getTransitionRate(n,l,j,\\\n",
      "\u001b[0;32m~/anaconda3/envs/arc/lib/python3.6/site-packages/arc/alkali_atom_functions.py\u001b[0m in \u001b[0;36mgetTransitionRate\u001b[0;34m(self, n1, l1, j1, n2, l2, j2, temperature)\u001b[0m\n\u001b[1;32m   1254\u001b[0m             dipoleRadialPart = self.getReducedMatrixElementJ_asymmetric(n2, l2, j2,\\\n\u001b[1;32m   1255\u001b[0m                                                                         n1, l1, j1)*\\\n\u001b[0;32m-> 1256\u001b[0;31m                                 \u001b[0mC_e\u001b[0m\u001b[0;34m*\u001b[0m\u001b[0;34m(\u001b[0m\u001b[0mphysical_constants\u001b[0m\u001b[0;34m[\u001b[0m\u001b[0;34m\"Bohr radius\"\u001b[0m\u001b[0;34m]\u001b[0m\u001b[0;34m[\u001b[0m\u001b[0;36m0\u001b[0m\u001b[0;34m]\u001b[0m\u001b[0;34m)\u001b[0m\u001b[0;34m\u001b[0m\u001b[0m\n\u001b[0m\u001b[1;32m   1257\u001b[0m             \u001b[0mdegeneracyTerm\u001b[0m \u001b[0;34m=\u001b[0m \u001b[0;34m(\u001b[0m\u001b[0;36m2.\u001b[0m\u001b[0;34m*\u001b[0m\u001b[0mj2\u001b[0m\u001b[0;34m+\u001b[0m\u001b[0;36m1.0\u001b[0m\u001b[0;34m)\u001b[0m\u001b[0;34m/\u001b[0m\u001b[0;34m(\u001b[0m\u001b[0;36m2.\u001b[0m\u001b[0;34m*\u001b[0m\u001b[0mj1\u001b[0m\u001b[0;34m+\u001b[0m\u001b[0;36m1.\u001b[0m\u001b[0;34m)\u001b[0m\u001b[0;34m\u001b[0m\u001b[0m\n\u001b[1;32m   1258\u001b[0m \u001b[0;34m\u001b[0m\u001b[0m\n",
      "\u001b[0;32m~/anaconda3/envs/arc/lib/python3.6/site-packages/arc/alkali_atom_functions.py\u001b[0m in \u001b[0;36mgetReducedMatrixElementJ_asymmetric\u001b[0;34m(self, n1, l1, j1, n2, l2, j2)\u001b[0m\n\u001b[1;32m    876\u001b[0m                 \u001b[0mWigner6j\u001b[0m\u001b[0;34m(\u001b[0m\u001b[0ml1\u001b[0m\u001b[0;34m,\u001b[0m\u001b[0ml2\u001b[0m\u001b[0;34m,\u001b[0m\u001b[0;36m1\u001b[0m\u001b[0;34m,\u001b[0m\u001b[0mj2\u001b[0m\u001b[0;34m,\u001b[0m\u001b[0mj1\u001b[0m\u001b[0;34m,\u001b[0m\u001b[0;36m0.5\u001b[0m\u001b[0;34m)\u001b[0m\u001b[0;34m*\u001b[0m\u001b[0;31m\\\u001b[0m\u001b[0;34m\u001b[0m\u001b[0m\n\u001b[1;32m    877\u001b[0m                 \u001b[0msqrt\u001b[0m\u001b[0;34m(\u001b[0m\u001b[0mfloat\u001b[0m\u001b[0;34m(\u001b[0m\u001b[0mmax\u001b[0m\u001b[0;34m(\u001b[0m\u001b[0ml1\u001b[0m\u001b[0;34m,\u001b[0m\u001b[0ml2\u001b[0m\u001b[0;34m)\u001b[0m\u001b[0;34m)\u001b[0m\u001b[0;34m/\u001b[0m\u001b[0;34m(\u001b[0m\u001b[0;36m2.0\u001b[0m\u001b[0;34m*\u001b[0m\u001b[0ml1\u001b[0m\u001b[0;34m+\u001b[0m\u001b[0;36m1.0\u001b[0m\u001b[0;34m)\u001b[0m\u001b[0;34m)\u001b[0m\u001b[0;34m*\u001b[0m\u001b[0;31m\\\u001b[0m\u001b[0;34m\u001b[0m\u001b[0m\n\u001b[0;32m--> 878\u001b[0;31m                 \u001b[0mself\u001b[0m\u001b[0;34m.\u001b[0m\u001b[0mgetRadialMatrixElement\u001b[0m\u001b[0;34m(\u001b[0m\u001b[0mn1\u001b[0m\u001b[0;34m,\u001b[0m \u001b[0ml1\u001b[0m\u001b[0;34m,\u001b[0m \u001b[0mj1\u001b[0m\u001b[0;34m,\u001b[0m \u001b[0mn2\u001b[0m\u001b[0;34m,\u001b[0m \u001b[0ml2\u001b[0m\u001b[0;34m,\u001b[0m \u001b[0mj2\u001b[0m\u001b[0;34m)\u001b[0m\u001b[0;34m\u001b[0m\u001b[0m\n\u001b[0m\u001b[1;32m    879\u001b[0m \u001b[0;34m\u001b[0m\u001b[0m\n\u001b[1;32m    880\u001b[0m     \u001b[0;32mdef\u001b[0m \u001b[0mgetReducedMatrixElementL\u001b[0m\u001b[0;34m(\u001b[0m\u001b[0mself\u001b[0m\u001b[0;34m,\u001b[0m\u001b[0mn1\u001b[0m\u001b[0;34m,\u001b[0m\u001b[0ml1\u001b[0m\u001b[0;34m,\u001b[0m\u001b[0mj1\u001b[0m\u001b[0;34m,\u001b[0m\u001b[0mn2\u001b[0m\u001b[0;34m,\u001b[0m\u001b[0ml2\u001b[0m\u001b[0;34m,\u001b[0m\u001b[0mj2\u001b[0m\u001b[0;34m)\u001b[0m\u001b[0;34m:\u001b[0m\u001b[0;34m\u001b[0m\u001b[0m\n",
      "\u001b[0;31mTypeError\u001b[0m: unsupported operand type(s) for *: 'float' and 'NoneType'"
     ]
    }
   ],
   "source": [
    "ni = 10\n",
    "li = 0\n",
    "ji = 0.5\n",
    "print(\"Initial transition: %s \" % printStateString(ni,li,ji) )\n",
    "print(\"\\tState Lifetime:\\t%.2e ns\\n\"  \n",
    "  % (atom.getStateLifetime(ni, li, ji)*1e9) )"
   ]
  },
  {
   "cell_type": "code",
   "execution_count": null,
   "metadata": {},
   "outputs": [],
   "source": []
  }
 ],
 "metadata": {
  "kernelspec": {
   "display_name": "Python 3",
   "language": "python",
   "name": "python3"
  },
  "language_info": {
   "codemirror_mode": {
    "name": "ipython",
    "version": 3
   },
   "file_extension": ".py",
   "mimetype": "text/x-python",
   "name": "python",
   "nbconvert_exporter": "python",
   "pygments_lexer": "ipython3",
   "version": "3.6.4"
  }
 },
 "nbformat": 4,
 "nbformat_minor": 2
}
