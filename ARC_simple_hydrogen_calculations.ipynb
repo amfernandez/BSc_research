{
 "cells": [
  {
   "cell_type": "markdown",
   "metadata": {},
   "source": [
    "# Using ARC package for simple known H calculations\n",
    "\n",
    "I will use the ARC functions to compare the results with well known theory results of H spectral lines and familiarise with these functions so I can apply them to more complex calculations in other notebooks."
   ]
  },
  {
   "cell_type": "code",
   "execution_count": 1,
   "metadata": {},
   "outputs": [],
   "source": [
    "# Import the arc package\n",
    "from arc import *"
   ]
  },
  {
   "cell_type": "code",
   "execution_count": 2,
   "metadata": {},
   "outputs": [],
   "source": [
    "# Create our Hydrogen atom\n",
    "atom = Hydrogen(cpp_numerov=False)"
   ]
  },
  {
   "cell_type": "markdown",
   "metadata": {
    "collapsed": true
   },
   "source": [
    "## Lyman Series\n",
    "\n",
    "Lyman series are hydrogen spectral series of transitions from:\n",
    "$$ n \\geq 2 $$ to the ground state $$ n = 1 $$ \n",
    "These transitions result in the emission of a photon in the ultraviolet spectrum. I am going to show using the ARC package the wavelenght of these emissions from n = 2 to n = 11\n",
    "\n",
    "Next I plot the energy levels for n = 11 until n = 1, for l = 0 (subshell S - other subshell don't have transitions to the ground state)\n"
   ]
  },
  {
   "cell_type": "code",
   "execution_count": 3,
   "metadata": {},
   "outputs": [
    {
     "data": {
      "image/png": "[encoded data removed]",
      "text/plain": [
       "<matplotlib.figure.Figure at 0xad5b960c>"
      ]
     },
     "metadata": {},
     "output_type": "display_data"
    }
   ],
   "source": [
    "nmin=1  #Minimum n\n",
    "nmax=11 #Maximum n\n",
    "lmin=0  #Minimum l\n",
    "lmax=0  #Maxmium l\n",
    "\n",
    "#Plot Energy Levels of Hydrogen for Lyman series\n",
    "levels = LevelPlot(atom)\n",
    "levels.makeLevels(nmin,nmax,lmin,lmax)\n",
    "levels.drawLevels()\n",
    "levels.showPlot()\n"
   ]
  },
  {
   "cell_type": "markdown",
   "metadata": {},
   "source": [
    "Calculate the wavelength for each transition"
   ]
  },
  {
   "cell_type": "code",
   "execution_count": 18,
   "metadata": {},
   "outputs": [
    {
     "name": "stdout",
     "output_type": "stream",
     "text": [
      "Transition 2 P 3/2 to 1 S 1/2 :\n",
      "\tTransition wavelength:\t-121.567 nm\n",
      "\tTransition frequency:\t-2466071.325 GHz\n",
      "\tTransition energy:\t-1.02e+01 eV\n",
      "\tReduced Matrix Element:\t1.492 a_0 e\n",
      "\tState Lifetime:\t\t1.59e+00 ns\n",
      "\tTransition Rate:\t6.277e+08 s-1\n",
      "\n",
      "Transition 3 P 3/2 to 1 S 1/2 :\n",
      "\tTransition wavelength:\t-102.572 nm\n",
      "\tTransition frequency:\t-2922746.213 GHz\n",
      "\tTransition energy:\t-1.21e+01 eV\n",
      "\tReduced Matrix Element:\t-0.598 a_0 e\n",
      "\tState Lifetime:\t\t5.26e+00 ns\n",
      "\tTransition Rate:\t1.677e+08 s-1\n",
      "\n",
      "Transition 4 P 3/2 to 1 S 1/2 :\n",
      "\tTransition wavelength:\t-97.254 nm\n",
      "\tTransition frequency:\t-3082582.802 GHz\n",
      "\tTransition energy:\t-1.27e+01 eV\n",
      "\tReduced Matrix Element:\t0.352 a_0 e\n",
      "\tState Lifetime:\t\t1.23e+01 ns\n",
      "\tTransition Rate:\t6.840e+07 s-1\n",
      "\n",
      "Transition 5 P 3/2 to 1 S 1/2 :\n",
      "\tTransition wavelength:\t-94.974 nm\n",
      "\tTransition frequency:\t-3156564.319 GHz\n",
      "\tTransition energy:\t-1.31e+01 eV\n",
      "\tReduced Matrix Element:\t-0.242 a_0 e\n",
      "\tState Lifetime:\t\t2.37e+01 ns\n",
      "\tTransition Rate:\t3.449e+07 s-1\n",
      "\n",
      "Transition 6 P 3/2 to 1 S 1/2 :\n",
      "\tTransition wavelength:\t-93.780 nm\n",
      "\tTransition frequency:\t-3196751.797 GHz\n",
      "\tTransition energy:\t-1.32e+01 eV\n",
      "\tReduced Matrix Element:\t0.180 a_0 e\n",
      "\tState Lifetime:\t\t4.07e+01 ns\n",
      "\tTransition Rate:\t1.979e+07 s-1\n",
      "\n",
      "Transition 7 P 3/2 to 1 S 1/2 :\n",
      "\tTransition wavelength:\t-93.075 nm\n",
      "\tTransition frequency:\t-3220983.570 GHz\n",
      "\tTransition energy:\t-1.33e+01 eV\n",
      "\tReduced Matrix Element:\t-0.141 a_0 e\n",
      "\tState Lifetime:\t\t6.43e+01 ns\n",
      "\tTransition Rate:\t1.240e+07 s-1\n",
      "\n",
      "Transition 8 P 3/2 to 1 S 1/2 :\n",
      "\tTransition wavelength:\t-92.623 nm\n",
      "\tTransition frequency:\t-3236710.697 GHz\n",
      "\tTransition energy:\t-1.34e+01 eV\n",
      "\tReduced Matrix Element:\t0.114 a_0 e\n",
      "\tState Lifetime:\t\t9.56e+01 ns\n",
      "\tTransition Rate:\t8.283e+06 s-1\n",
      "\n"
     ]
    }
   ],
   "source": [
    "l=1\n",
    "j=1.5\n",
    "nf=1\n",
    "lf=0\n",
    "jf=0.5\n",
    "\n",
    "for state in range(2,9):\n",
    "    print(\"Transition %s to %s :\" % (printStateString(state,l,j), printStateString(nf,lf,jf)))\n",
    "    # print(atom.getTransitionWavelength(state,l,j,nf,lf,jf))  # returns value in units of m\n",
    "    print(\"\\tTransition wavelength:\\t%.3f nm\"\n",
    "      % (atom.getTransitionWavelength(state,l,j,nf,lf,jf) * 1e9) )  # convert m into nm\n",
    "    print(\"\\tTransition frequency:\\t%.3f GHz\"\n",
    "      % (atom.getTransitionFrequency(state, l, j, nf, lf, jf)*1e-9) ) # convert Hz into GHz\n",
    "    print(\"\\tTransition energy:\\t%.2e eV\"\n",
    "      % (atom.getEnergy(nf,lf,jf) - atom.getEnergy(state,l,j)))\n",
    "    #print(\"\\tState's lifetime:\\t%.2e s\"         # kernel dies after transition 6 \n",
    "      #% (atom.getStateLifetime(state,l,j)) )\n",
    "    print(\"\\tReduced Matrix Element:\\t%.3f a_0 e\" # kernel dies after transition 7\n",
    "      % atom.getReducedMatrixElementJ(state,l,j,nf,lf,jf) )\n",
    "    print(\"\\tState Lifetime:\\t\\t%.2e ns\"  \n",
    "      % (atom.getStateLifetime(state, l, j)*1e9) )\n",
    "    print(\"\\tTransition Rate:\\t%.3e s-1\\n\"\n",
    "      % atom.getTransitionRate(state,l,j,nf,lf,jf, temperature=300.0) )"
   ]
  },
  {
   "cell_type": "markdown",
   "metadata": {},
   "source": [
    "For n > 6, the jupyter kernel is dying. The c library for the Numerov is crashing. I had to initiate the H atom without the Nummerov:\n",
    "cpp_numerov=False\n",
    "\n",
    "getStateLifetime is failing for n > 10, TypeError , strange because I don't get this error for n < 10"
   ]
  },
  {
   "cell_type": "code",
   "execution_count": 20,
   "metadata": {},
   "outputs": [
    {
     "name": "stdout",
     "output_type": "stream",
     "text": [
      "\tTransition Rate:\t6.133e+01 s-1\n",
      "\n"
     ]
    }
   ],
   "source": [
    "n1=110\n",
    "l1=1\n",
    "j1=1.5\n",
    "n2=109\n",
    "l2=0\n",
    "j2=0.5\n",
    "\n",
    "#print(\"\\tState's lifetime:\\t%.2e s\\n\"         # kernel dies after transition 6 \n",
    " # % (atom.getStateLifetime(n1,l1,j1)) )\n",
    "#print(\"\\tReduced Matrix Element:\\t%.3f a_0 e\" # kernel dies\n",
    "  #% atom.getReducedMatrixElementJ(n1,l1,j1,n2,l2,j2) )\n",
    "#print(\"\\tState Lifetime:\\t%.2e ns\\n\"  \n",
    "#      % (atom.getStateLifetime(n1, l1, j1)*1e9) )\n",
    "print(\"\\tTransition Rate:\\t%.3e s-1\\n\"\n",
    "      % atom.getTransitionRate(n1,l1,j1,n2,l2,j2, temperature=300.0) )"
   ]
  },
  {
   "cell_type": "code",
   "execution_count": null,
   "metadata": {},
   "outputs": [],
   "source": []
  }
 ],
 "metadata": {
  "kernelspec": {
   "display_name": "Python 3",
   "language": "python",
   "name": "python3"
  },
  "language_info": {
   "codemirror_mode": {
    "name": "ipython",
    "version": 3
   },
   "file_extension": ".py",
   "mimetype": "text/x-python",
   "name": "python",
   "nbconvert_exporter": "python",
   "pygments_lexer": "ipython3",
   "version": "3.6.4"
  }
 },
 "nbformat": 4,
 "nbformat_minor": 2
}
