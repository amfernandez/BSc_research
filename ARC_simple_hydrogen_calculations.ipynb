{
 "cells": [
  {
   "cell_type": "markdown",
   "metadata": {},
   "source": [
    "# Using ARC package for simple known H calculations\n",
    "\n",
    "I will use the ARC functions to compare the results with well known theory results of H spectral lines and familiarise with these functions so I can apply them to more complex calculations in other notebooks."
   ]
  },
  {
   "cell_type": "code",
   "execution_count": 2,
   "metadata": {},
   "outputs": [],
   "source": [
    "# Import the arc package\n",
    "from arc import *"
   ]
  },
  {
   "cell_type": "code",
   "execution_count": 3,
   "metadata": {},
   "outputs": [],
   "source": [
    "# Create our Hydrogen atom\n",
    "atom = Hydrogen()"
   ]
  },
  {
   "cell_type": "markdown",
   "metadata": {
    "collapsed": true
   },
   "source": [
    "## Lyman Series\n",
    "\n",
    "Lyman series are hydrogen spectral series of transitions from:\n",
    "$$ n \\geq 2 $$ to the ground state $$ n = 1 $$ \n",
    "These transitions result in the emission of a photon in the ultraviolet spectrum. I am going to show using the ARC package the wavelenght of these emissions from n = 2 to n = 11\n",
    "\n",
    "Next I plot the energy levels for n = 11 until n = 1, for l = 0 (subshell S - other subshell don't have transitions to the ground state)\n"
   ]
  },
  {
   "cell_type": "code",
   "execution_count": 5,
   "metadata": {},
   "outputs": [
    {
     "data": {
      "image/png": "[encoded data removed]",
      "text/plain": [
       "<matplotlib.figure.Figure at 0xad4fff0c>"
      ]
     },
     "metadata": {},
     "output_type": "display_data"
    }
   ],
   "source": [
    "nmin=1  #Minimum n\n",
    "nmax=11 #Maximum n\n",
    "lmin=0  #Minimum l\n",
    "lmax=0  #Maxmium l\n",
    "\n",
    "#Plot Energy Levels of Hydrogen for Lyman series\n",
    "levels = LevelPlot(atom)\n",
    "levels.makeLevels(nmin,nmax,lmin,lmax)\n",
    "levels.drawLevels()\n",
    "levels.showPlot()\n"
   ]
  },
  {
   "cell_type": "markdown",
   "metadata": {},
   "source": [
    "Calculate the wavelength for each transition"
   ]
  },
  {
   "cell_type": "code",
   "execution_count": 9,
   "metadata": {},
   "outputs": [
    {
     "name": "stdout",
     "output_type": "stream",
     "text": [
      "Transition 2 P 3/2 to 1 S 1/2 :\n",
      "\n",
      "-1.2156682372262695e-07\n",
      "\tTransition wavelength:\t-121.567 nm\n",
      "\tTransition frequency:\t-2466071.325 GHz\n",
      "\tTransition energy:\t-1.02e+01 eV\n",
      "\n",
      "Transition 3 P 3/2 to 1 S 1/2 :\n",
      "\n",
      "-1.0257218249917637e-07\n",
      "\tTransition wavelength:\t-102.572 nm\n",
      "\tTransition frequency:\t-2922746.213 GHz\n",
      "\tTransition energy:\t-1.21e+01 eV\n",
      "\n",
      "Transition 4 P 3/2 to 1 S 1/2 :\n",
      "\n",
      "-9.725365943855955e-08\n",
      "\tTransition wavelength:\t-97.254 nm\n",
      "\tTransition frequency:\t-3082582.802 GHz\n",
      "\tTransition energy:\t-1.27e+01 eV\n",
      "\n",
      "Transition 5 P 3/2 to 1 S 1/2 :\n",
      "\n",
      "-9.497429092567824e-08\n",
      "\tTransition wavelength:\t-94.974 nm\n",
      "\tTransition frequency:\t-3156564.319 GHz\n",
      "\tTransition energy:\t-1.31e+01 eV\n",
      "\n",
      "Transition 6 P 3/2 to 1 S 1/2 :\n",
      "\n",
      "-9.378033612514112e-08\n",
      "\tTransition wavelength:\t-93.780 nm\n",
      "\tTransition frequency:\t-3196751.797 GHz\n",
      "\tTransition energy:\t-1.32e+01 eV\n",
      "\n",
      "Transition 7 P 3/2 to 1 S 1/2 :\n",
      "\n",
      "-9.307481752569507e-08\n",
      "\tTransition wavelength:\t-93.075 nm\n",
      "\tTransition frequency:\t-3220983.570 GHz\n",
      "\tTransition energy:\t-1.33e+01 eV\n",
      "\n",
      "Transition 8 P 3/2 to 1 S 1/2 :\n",
      "\n",
      "-9.26225684141355e-08\n",
      "\tTransition wavelength:\t-92.623 nm\n",
      "\tTransition frequency:\t-3236710.697 GHz\n",
      "\tTransition energy:\t-1.34e+01 eV\n",
      "\n",
      "Transition 9 P 3/2 to 1 S 1/2 :\n",
      "\n",
      "-9.231503588216549e-08\n",
      "\tTransition wavelength:\t-92.315 nm\n",
      "\tTransition frequency:\t-3247493.273 GHz\n",
      "\tTransition energy:\t-1.34e+01 eV\n",
      "\n",
      "Transition 10 P 3/2 to 1 S 1/2 :\n",
      "\n",
      "-9.209630952235719e-08\n",
      "\tTransition wavelength:\t-92.096 nm\n",
      "\tTransition frequency:\t-3255205.986 GHz\n",
      "\tTransition energy:\t-1.35e+01 eV\n",
      "\n",
      "Transition 11 P 3/2 to 1 S 1/2 :\n",
      "\n",
      "-9.193514272371698e-08\n",
      "\tTransition wavelength:\t-91.935 nm\n",
      "\tTransition frequency:\t-3260912.521 GHz\n",
      "\tTransition energy:\t-1.35e+01 eV\n",
      "\n"
     ]
    }
   ],
   "source": [
    "l=1\n",
    "j=1.5\n",
    "nf=1\n",
    "lf=0\n",
    "jf=0.5\n",
    "\n",
    "for state in range(2,12):\n",
    "    print(\"Transition %s to %s :\\n\" % (printStateString(state,l,j), printStateString(nf,lf,jf)))\n",
    "    print(atom.getTransitionWavelength(state,l,j,nf,lf,jf))  # returns value in units of m\n",
    "    print(\"\\tTransition wavelength:\\t%.3f nm\"\n",
    "      % (atom.getTransitionWavelength(state,l,j,nf,lf,jf) * 1e9) )  # convert m into nm\n",
    "    print(\"\\tTransition frequency:\\t%.3f GHz\"\n",
    "      % (atom.getTransitionFrequency(state, l, j, nf, lf, jf)*1e-9) ) # convert Hz into GHz\n",
    "    print(\"\\tTransition energy:\\t%.2e eV\\n\"\n",
    "      % (atom.getEnergy(nf,lf,jf) - atom.getEnergy(state,l,j)))"
   ]
  },
  {
   "cell_type": "code",
   "execution_count": null,
   "metadata": {},
   "outputs": [],
   "source": []
  }
 ],
 "metadata": {
  "kernelspec": {
   "display_name": "Python 3",
   "language": "python",
   "name": "python3"
  },
  "language_info": {
   "codemirror_mode": {
    "name": "ipython",
    "version": 3
   },
   "file_extension": ".py",
   "mimetype": "text/x-python",
   "name": "python",
   "nbconvert_exporter": "python",
   "pygments_lexer": "ipython3",
   "version": "3.6.4"
  }
 },
 "nbformat": 4,
 "nbformat_minor": 2
}
